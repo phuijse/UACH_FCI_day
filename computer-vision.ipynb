{
 "cells": [
  {
   "cell_type": "code",
   "execution_count": null,
   "metadata": {},
   "outputs": [],
   "source": [
    "import matplotlib.pyplot as plt\n",
    "import numpy as np\n",
    "import PIL.Image\n",
    "import torch\n",
    "import torchvision"
   ]
  },
  {
   "cell_type": "code",
   "execution_count": null,
   "metadata": {},
   "outputs": [],
   "source": [
    "from torchvision.models.detection import fasterrcnn_resnet50_fpn\n",
    "\n",
    "model = fasterrcnn_resnet50_fpn(pretrained=True)\n",
    "model.eval()"
   ]
  },
  {
   "cell_type": "code",
   "execution_count": null,
   "metadata": {},
   "outputs": [],
   "source": [
    "!wget http://4.bp.blogspot.com/_PED_9yjYLVs/S6-fsdvtV9I/AAAAAAAAAGY/3py429MtnQ4/s1600/perros+vagos.jpg"
   ]
  },
  {
   "cell_type": "code",
   "execution_count": null,
   "metadata": {},
   "outputs": [],
   "source": [
    "img = PIL.Image.open('perros+vagos.jpg')\n",
    "\n",
    "img_tensor = torchvision.transforms.ToTensor()(img)\n",
    "\n",
    "model = model.cpu()\n",
    "res = model(img_tensor.unsqueeze(0))"
   ]
  },
  {
   "cell_type": "code",
   "execution_count": null,
   "metadata": {},
   "outputs": [],
   "source": [
    "import time\n",
    "import cv2\n",
    "\n",
    "from io import BytesIO\n",
    "import ipywidgets as widgets\n",
    "from IPython.display import clear_output, display, Image\n",
    "\n",
    "videopath = '/home/phuijse/Amsterdam_drive_edited.mp4'\n",
    "\n",
    "out = widgets.Output(layout=widgets.Layout(height='350px', width = '500px', border='solid'))\n",
    "display(out)\n",
    "            \n",
    "vid = cv2.VideoCapture(videopath)\n",
    "\n",
    "def draw_square(frame, x, y, width, height):\n",
    "    frame[x:x+width, y, :] = [1., 1., 1.]\n",
    "    frame[x:x+width, y+height, :] = [1., 1., 1.]\n",
    "    frame[x:x+width, y, :] = [1., 1., 1.]\n",
    "    frame[x:x+width, y+height, :] = [1., 1., 1.]\n",
    "    return frame\n",
    "\n",
    "try:\n",
    "    while True:\n",
    "        #clear_output(wait=False)\n",
    "        ret, frame = vid.read()\n",
    "        frame = cv2.cvtColor(frame, cv2.COLOR_BGR2RGB)\n",
    "        #frame = draw_square(frame, 100, 100, 100, 100)\n",
    "        with out:            \n",
    "            f = BytesIO() \n",
    "            PIL.Image.fromarray(frame).save(f, 'JPEG')\n",
    "            clear_output(wait=False)\n",
    "            display(Image(data=f.getvalue()))\n",
    "        #showarray(frame)\n",
    "        time.sleep(0.05)\n",
    "        \n",
    "except KeyboardInterrupt:\n",
    "    vid.release()"
   ]
  }
 ],
 "metadata": {
  "kernelspec": {
   "display_name": "Python 3",
   "language": "python",
   "name": "python3"
  },
  "language_info": {
   "codemirror_mode": {
    "name": "ipython",
    "version": 3
   },
   "file_extension": ".py",
   "mimetype": "text/x-python",
   "name": "python",
   "nbconvert_exporter": "python",
   "pygments_lexer": "ipython3",
   "version": "3.7.4"
  }
 },
 "nbformat": 4,
 "nbformat_minor": 2
}
