{
 "cells": [
  {
   "cell_type": "code",
   "execution_count": null,
   "metadata": {},
   "outputs": [],
   "source": [
    "import urllib\n",
    "from PIL import Image, ImageFont, ImageDraw\n",
    "from IPython import display\n",
    "import time\n",
    "from io import BytesIO\n",
    "import ipywidgets as widgets\n",
    "import cv2\n",
    "print(\"Opencv version: \"+cv2.__version__)\n",
    "import torch\n",
    "print(\"Torch version: \"+torch.__version__)\n",
    "import torchvision\n",
    "print(\"Torchvision version: \"+torchvision.__version__)"
   ]
  },
  {
   "cell_type": "markdown",
   "metadata": {},
   "source": [
    "## Localización y clasificación de entidades en una imagen\n",
    "\n",
    "Descargamos una imagen cualquier de internet"
   ]
  },
  {
   "cell_type": "code",
   "execution_count": null,
   "metadata": {},
   "outputs": [],
   "source": [
    "url, filename = (\"http://4.bp.blogspot.com/_PED_9yjYLVs/S6-fsdvtV9I/AAAAAAAAAGY/3py429MtnQ4/s1600/perros+vagos.jpg\", \"dogs.jpg\")\n",
    "urllib.request.urlretrieve(url, filename)\n",
    "img = Image.open('dogs.jpg')\n",
    "!rm dogs.jpg\n",
    "display.display(img)"
   ]
  },
  {
   "cell_type": "markdown",
   "metadata": {},
   "source": [
    "Usaremos un modelo Faster RCNN implementado en pytorch y entrenado en el dataset [COCO](https://github.com/nightrome/cocostuff/blob/master/labels.md)"
   ]
  },
  {
   "cell_type": "code",
   "execution_count": null,
   "metadata": {},
   "outputs": [],
   "source": [
    "label2name = {1: 'persona', 2: 'bicicleta', 3: 'auto', 4: 'moto', 8: 'camioneta', 18: 'perro'}\n",
    "\n",
    "from torchvision.models.detection import fasterrcnn_resnet50_fpn\n",
    "# Descargo un modelo detector pre-entrenado\n",
    "model = fasterrcnn_resnet50_fpn(pretrained=True)\n",
    "model.eval();\n",
    "model = model.to('cuda:0')"
   ]
  },
  {
   "cell_type": "markdown",
   "metadata": {},
   "source": [
    "El modelo retorna \n",
    "- las coordenadas de la detección (bounding box)\n",
    "- la etiqueta (label) de la detección\n",
    "- la probabilidad de la detección "
   ]
  },
  {
   "cell_type": "code",
   "execution_count": null,
   "metadata": {},
   "outputs": [],
   "source": [
    "transform = torchvision.transforms.ToTensor()\n",
    "img_tensor = transform(img)\n",
    "img_tensor = img_tensor.to('cuda:0')\n",
    "result = model(img_tensor.unsqueeze(0))[0]\n",
    "\n",
    "def filter_results(result, threshold=0.9):\n",
    "    mask = result['scores'] > 0.9\n",
    "    bbox = result['boxes'][mask].detach().cpu().numpy()\n",
    "    lbls = result['labels'][mask].detach().cpu().numpy()\n",
    "    return bbox, lbls"
   ]
  },
  {
   "cell_type": "code",
   "execution_count": null,
   "metadata": {},
   "outputs": [],
   "source": [
    "fnt = ImageFont.truetype(\"arial.ttf\", 30) \n",
    "\n",
    "def draw_rectangles(img, bbox, lbls):\n",
    "    draw = ImageDraw.Draw(img)\n",
    "    for k in range(len(bbox)):\n",
    "        if lbls[k] in label2name.keys():\n",
    "            draw.rectangle(bbox[k], fill=None, outline='white', width=4)\n",
    "            draw.text([int(d) for d in bbox[k][:2]], label2name[lbls[k]], font=fnt, fill='white')\n",
    "\n",
    "bbox, lbls = filter_results(result)\n",
    "draw_rectangles(img, bbox, lbls)\n",
    "display.display(img)"
   ]
  },
  {
   "cell_type": "code",
   "execution_count": null,
   "metadata": {},
   "outputs": [],
   "source": [
    "fnt = ImageFont.truetype(\"arial.ttf\", 40) \n",
    "out = widgets.Output(layout=widgets.Layout(height='480px', width = '720px', border='none'))\n",
    "display.display(out)            \n",
    "vid = cv2.VideoCapture('valdivia.mp4')\n",
    "\n",
    "try:\n",
    "    while True:\n",
    "        for k in range(2): # drop one frame\n",
    "            ret, frame = vid.read()\n",
    "        frame = cv2.cvtColor(frame, cv2.COLOR_BGR2RGB)\n",
    "        torch_frame = transform(frame)\n",
    "        torch_frame = torch_frame.to('cuda:0')\n",
    "        result = model(torch_frame.unsqueeze(0))[0]\n",
    "        bbox, lbls = filter_results(result, threshold=0.1)\n",
    "        img = Image.fromarray(frame)\n",
    "        draw_rectangles(img, bbox, lbls)\n",
    "        with out:       \n",
    "            buffer = BytesIO() \n",
    "            img.save(buffer, format='JPEG')\n",
    "            display.display(display.Image(data=buffer.getvalue()))\n",
    "            display.clear_output(wait=True)\n",
    "        #time.sleep(0.1)\n",
    "        \n",
    "except KeyboardInterrupt:\n",
    "    vid.release()\n",
    "#https://github.com/NicksonYap/Jupyter-Webcam/blob/master/Realtime_video_ipython_py3.ipynb"
   ]
  },
  {
   "cell_type": "code",
   "execution_count": null,
   "metadata": {},
   "outputs": [],
   "source": []
  }
 ],
 "metadata": {
  "kernelspec": {
   "display_name": "Python 3",
   "language": "python",
   "name": "python3"
  },
  "language_info": {
   "codemirror_mode": {
    "name": "ipython",
    "version": 3
   },
   "file_extension": ".py",
   "mimetype": "text/x-python",
   "name": "python",
   "nbconvert_exporter": "python",
   "pygments_lexer": "ipython3",
   "version": "3.7.4"
  }
 },
 "nbformat": 4,
 "nbformat_minor": 2
}
